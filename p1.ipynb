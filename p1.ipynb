{
 "cells": [
  {
   "cell_type": "markdown",
   "metadata": {},
   "source": [
    "# PIAIC Class 1"
   ]
  },
  {
   "cell_type": "code",
   "execution_count": 1,
   "metadata": {},
   "outputs": [
    {
     "name": "stdout",
     "output_type": "stream",
     "text": [
      "Pakistan Zindabad\n"
     ]
    }
   ],
   "source": [
    "print(\"Pakistan Zindabad\")"
   ]
  },
  {
   "cell_type": "code",
   "execution_count": 2,
   "metadata": {},
   "outputs": [
    {
     "name": "stdout",
     "output_type": "stream",
     "text": [
      "I am Kashmiri\n"
     ]
    }
   ],
   "source": [
    "print(\"I am Kashmiri\")"
   ]
  },
  {
   "cell_type": "raw",
   "metadata": {},
   "source": [
    "Learnt simple print statement"
   ]
  },
  {
   "cell_type": "raw",
   "metadata": {},
   "source": []
  },
  {
   "cell_type": "code",
   "execution_count": 12,
   "metadata": {},
   "outputs": [
    {
     "name": "stdout",
     "output_type": "stream",
     "text": [
      "rana\n"
     ]
    }
   ],
   "source": [
    "print(\"rana\")"
   ]
  },
  {
   "cell_type": "code",
   "execution_count": 13,
   "metadata": {},
   "outputs": [
    {
     "name": "stdout",
     "output_type": "stream",
     "text": [
      "rana sahib\n"
     ]
    }
   ],
   "source": [
    "print(\"rana sahib\")"
   ]
  },
  {
   "cell_type": "code",
   "execution_count": 17,
   "metadata": {},
   "outputs": [
    {
     "name": "stdout",
     "output_type": "stream",
     "text": [
      "please enter your nameaho\n",
      " HI aho\n"
     ]
    }
   ],
   "source": [
    "name=input(\"please enter your name\")\n",
    "print(' HI ' + name)"
   ]
  },
  {
   "cell_type": "code",
   "execution_count": 15,
   "metadata": {},
   "outputs": [
    {
     "data": {
      "text/plain": [
       "6"
      ]
     },
     "execution_count": 15,
     "metadata": {},
     "output_type": "execute_result"
    }
   ],
   "source": [
    "3+3"
   ]
  },
  {
   "cell_type": "code",
   "execution_count": 16,
   "metadata": {},
   "outputs": [
    {
     "name": "stdout",
     "output_type": "stream",
     "text": [
      "this is first project\n"
     ]
    }
   ],
   "source": [
    "print(\"this is first project\")"
   ]
  },
  {
   "cell_type": "markdown",
   "metadata": {},
   "source": [
    "# Data type"
   ]
  },
  {
   "cell_type": "code",
   "execution_count": 25,
   "metadata": {},
   "outputs": [
    {
     "name": "stdout",
     "output_type": "stream",
     "text": [
      "\n",
      "PIAIC ISLAMABD BATCH 3\n",
      "NAME: Khuram Yasin\n",
      "FATHER Name: Muhammad Yasin\n",
      "University: Arid University\n",
      "\n"
     ]
    }
   ],
   "source": [
    "name = \"Khuram Yasin\"\n",
    "father_name= \"Muhammad Yasin\"\n",
    "university= \"Arid University\"\n",
    "\n",
    "message= \"\"\"\n",
    "PIAIC ISLAMABD BATCH 3\n",
    "NAME: {}\n",
    "FATHER Name: {}\n",
    "University: {}\n",
    "\"\"\".format(name, father_name, university)\n",
    "print(message)"
   ]
  },
  {
   "cell_type": "code",
   "execution_count": 33,
   "metadata": {},
   "outputs": [
    {
     "name": "stdout",
     "output_type": "stream",
     "text": [
      "\n",
      "ARID AGRICULTURE UNIVERSITY\n",
      "NAME:REHAN\n",
      "FATHER NAME:shakeel\n",
      "UNIVERSITY:Arid\n",
      "ClASS:BS-IT\n",
      "\n"
     ]
    }
   ],
   "source": [
    "name=\"REHAN\"\n",
    "father_name=\"shakeel\"\n",
    "university=\"Arid\"\n",
    "class_name=\"BS-IT\"\n",
    "\n",
    "message=\"\"\"\n",
    "ARID AGRICULTURE UNIVERSITY\n",
    "NAME:{}\n",
    "FATHER NAME:{}\n",
    "UNIVERSITY:{}\n",
    "ClASS:{}\n",
    "\"\"\".format(name,father_name,university,class_name)\n",
    "print(message)"
   ]
  },
  {
   "cell_type": "code",
   "execution_count": null,
   "metadata": {},
   "outputs": [],
   "source": []
  },
  {
   "cell_type": "code",
   "execution_count": null,
   "metadata": {},
   "outputs": [],
   "source": []
  }
 ],
 "metadata": {
  "kernelspec": {
   "display_name": "Python 3",
   "language": "python",
   "name": "python3"
  },
  "language_info": {
   "codemirror_mode": {
    "name": "ipython",
    "version": 3
   },
   "file_extension": ".py",
   "mimetype": "text/x-python",
   "name": "python",
   "nbconvert_exporter": "python",
   "pygments_lexer": "ipython3",
   "version": "3.7.4"
  }
 },
 "nbformat": 4,
 "nbformat_minor": 2
}
